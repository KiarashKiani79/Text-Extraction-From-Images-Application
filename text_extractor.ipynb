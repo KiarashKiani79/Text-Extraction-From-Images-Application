{
 "cells": [
  {
   "cell_type": "markdown",
   "metadata": {},
   "source": [
    "<a href=\"https://github.com/KiarashKiani79\" style=\"text-decoration: none; color: inherit;\">\n",
    "  <img src=\"https://skillicons.dev/icons?i=github\" alt=\"GitHub\"/>\n",
    "  KiarashKiani79\n",
    "</a>\n",
    "<img src=\"https://user-images.githubusercontent.com/73097560/115834477-dbab4500-a447-11eb-908a-139a6edaec5c.gif\">\n",
    "\n",
    "#### Optical Character Recognition (OCR)\n",
    "This project focuses on extracting structured text from images and enhancing it using OpenCV for more accurate results. The process involves downloading and installing Tesseract and other dependencies, loading the desired image, and using Tesseract to extract the text. The extracted text is then processed, especially for complex images, using OpenCV. Image processing operations include noise removal, threshold transformation, erosion, and drawing rectangles around specific patterns or characters. This automated Optical Character Recognition (OCR) method can be used by organizations to extract useful information from images and by individuals to save time and effort in typing. It eases the burden of document analysis and understanding. Let's get started with the project.\n"
   ]
  },
  {
   "cell_type": "code",
   "execution_count": 5,
   "metadata": {},
   "outputs": [],
   "source": [
    "import requests\n",
    "import os\n",
    "\n",
    "# Importing IPython to clear output which is not important \n",
    "from IPython.display import clear_output"
   ]
  },
  {
   "cell_type": "code",
   "execution_count": 7,
   "metadata": {},
   "outputs": [],
   "source": [
    "# Get the current directory\n",
    "current_dir = os.getcwd()\n",
    "\n",
    "# Define the path to the model folder in the current directory\n",
    "model_dir = os.path.join(current_dir, 'tesseract-ocr_model')\n",
    "\n",
    "# Create the model directory if it doesn't exist\n",
    "if not os.path.exists(model_dir):\n",
    "    os.makedirs(model_dir)\n",
    "\n",
    "# Define the path to the ind.traineddata file in the model directory\n",
    "path = os.path.join(model_dir, 'ind.traineddata')\n"
   ]
  },
  {
   "cell_type": "markdown",
   "metadata": {},
   "source": [
    "First we download the `ind.traineddata` file from the Tesseract OCR’s GitHub repository and writes it to a specific location on your system. This file is a trained model for the Tesseract OCR (which is required for pytesseract library to run) to use when recognizing text in images."
   ]
  },
  {
   "cell_type": "code",
   "execution_count": 8,
   "metadata": {},
   "outputs": [],
   "source": [
    "# Download the model from the official repository\n",
    "r = requests.get(\"https://raw.githubusercontent.com/tesseract-ocr/tessdata/4.00/ind.traineddata\",\n",
    "                 stream=True)\n",
    "\n",
    "# Writing data to file to avoid path issues\n",
    "with open (path, 'wb') as file:\n",
    "    for block in r.iter_content(chunk_size= 1024):\n",
    "        if block:\n",
    "            file.write(block)"
   ]
  },
  {
   "cell_type": "code",
   "execution_count": 9,
   "metadata": {},
   "outputs": [],
   "source": [
    "# Installing libraries required for optical character recognition\n",
    "! apt install tesseract-ocr libtesseract-dev libmagickwand-dev\n",
    "\n",
    "clear_output()"
   ]
  },
  {
   "cell_type": "markdown",
   "metadata": {},
   "source": [
    "`tesseract-ocr`: This is the name of the package for Tesseract, an open-source optical character recognition (OCR) engine. It can be used to recognize text in images.\n",
    "\n",
    "`libtesseract-dev`: This is the development package for Tesseract. It includes the header files and libraries needed to compile programs that use Tesseract.\n",
    "\n",
    "`libmagickwand-dev`: This is the development package for ImageMagick’s MagickWand, a C interface to ImageMagick (a software suite to create, edit, and compose bitmap images). It allows you to work with images in your code."
   ]
  },
  {
   "cell_type": "code",
   "execution_count": 10,
   "metadata": {},
   "outputs": [],
   "source": [
    "# Installing pytesseract and opencv\n",
    "! pip install pytesseract wand opencv-python\n",
    "clear_output()"
   ]
  },
  {
   "cell_type": "code",
   "execution_count": 11,
   "metadata": {},
   "outputs": [],
   "source": [
    "# Import libraries\n",
    "from PIL import Image  # Library for image processing\n",
    "import pytesseract  # Library for Optical Character Recognition (OCR)\n",
    "import cv2  # OpenCV library for computer vision tasks\n",
    "import numpy as np  # Library for numerical operations\n",
    "from pytesseract import Output  # Output utility for pytesseract\n",
    "import re  # Regular expressions library for string matching and manipulation"
   ]
  }
 ],
 "metadata": {
  "kernelspec": {
   "display_name": "Python 3",
   "language": "python",
   "name": "python3"
  },
  "language_info": {
   "codemirror_mode": {
    "name": "ipython",
    "version": 3
   },
   "file_extension": ".py",
   "mimetype": "text/x-python",
   "name": "python",
   "nbconvert_exporter": "python",
   "pygments_lexer": "ipython3",
   "version": "3.12.2"
  }
 },
 "nbformat": 4,
 "nbformat_minor": 2
}
